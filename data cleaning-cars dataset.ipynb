{
 "cells": [
  {
   "cell_type": "code",
   "execution_count": 11,
   "id": "094f89ae-2983-43ed-af96-22b9cac237ff",
   "metadata": {},
   "outputs": [],
   "source": [
    "import pandas as pd\n",
    "import numpy as np\n",
    "import matplotlib.pyplot as plt\n",
    "import seaborn as sns\n"
   ]
  },
  {
   "cell_type": "code",
   "execution_count": 19,
   "id": "6f4d1f71-d1d1-4416-9c38-7e32dd55cf06",
   "metadata": {},
   "outputs": [],
   "source": [
    "dataset=pd.read_csv(\"anaylsis of dataset.csv\")"
   ]
  },
  {
   "cell_type": "code",
   "execution_count": 20,
   "id": "08cc1b7c-9693-4c36-bd76-21d8250c8dc3",
   "metadata": {},
   "outputs": [
    {
     "data": {
      "text/html": [
       "<div>\n",
       "<style scoped>\n",
       "    .dataframe tbody tr th:only-of-type {\n",
       "        vertical-align: middle;\n",
       "    }\n",
       "\n",
       "    .dataframe tbody tr th {\n",
       "        vertical-align: top;\n",
       "    }\n",
       "\n",
       "    .dataframe thead th {\n",
       "        text-align: right;\n",
       "    }\n",
       "</style>\n",
       "<table border=\"1\" class=\"dataframe\">\n",
       "  <thead>\n",
       "    <tr style=\"text-align: right;\">\n",
       "      <th></th>\n",
       "      <th>car_name</th>\n",
       "      <th>variant</th>\n",
       "      <th>transmission</th>\n",
       "      <th>km_driven</th>\n",
       "      <th>owner_type</th>\n",
       "      <th>fuel_type</th>\n",
       "      <th>registeration</th>\n",
       "      <th>price</th>\n",
       "    </tr>\n",
       "  </thead>\n",
       "  <tbody>\n",
       "    <tr>\n",
       "      <th>0</th>\n",
       "      <td>2018 Tata NEXON</td>\n",
       "      <td>XM 1.2</td>\n",
       "      <td>Manual</td>\n",
       "      <td>95,230 km</td>\n",
       "      <td>1st Owner</td>\n",
       "      <td>Petrol</td>\n",
       "      <td>UP-16</td>\n",
       "      <td>₹6,50,000</td>\n",
       "    </tr>\n",
       "    <tr>\n",
       "      <th>1</th>\n",
       "      <td>2017 Renault Kwid</td>\n",
       "      <td>1.0 RXT Opt</td>\n",
       "      <td>Manual</td>\n",
       "      <td>72,956 km</td>\n",
       "      <td>2nd Owner</td>\n",
       "      <td>Petrol</td>\n",
       "      <td>HR-11</td>\n",
       "      <td>₹3,19,000</td>\n",
       "    </tr>\n",
       "    <tr>\n",
       "      <th>2</th>\n",
       "      <td>2017 HYUNDAI ELITE I20</td>\n",
       "      <td>ASTA 1.2 (O)</td>\n",
       "      <td>Manual</td>\n",
       "      <td>50,636 km</td>\n",
       "      <td>2nd Owner</td>\n",
       "      <td>Petrol</td>\n",
       "      <td>DL-7C</td>\n",
       "      <td>₹5,87,000</td>\n",
       "    </tr>\n",
       "    <tr>\n",
       "      <th>3</th>\n",
       "      <td>2019 Mahindra XUV 3OO</td>\n",
       "      <td>W8(O)</td>\n",
       "      <td>Manual</td>\n",
       "      <td>86,652 km</td>\n",
       "      <td>1st Owner</td>\n",
       "      <td>Diesel</td>\n",
       "      <td>DL-12</td>\n",
       "      <td>₹8,22,000</td>\n",
       "    </tr>\n",
       "    <tr>\n",
       "      <th>4</th>\n",
       "      <td>2020 Hyundai Creta</td>\n",
       "      <td>1.5 SX (O) AT</td>\n",
       "      <td>Automatic</td>\n",
       "      <td>20,235 km</td>\n",
       "      <td>1st Owner</td>\n",
       "      <td>Petrol</td>\n",
       "      <td>DL-9C</td>\n",
       "      <td>₹16,74,000</td>\n",
       "    </tr>\n",
       "    <tr>\n",
       "      <th>...</th>\n",
       "      <td>...</td>\n",
       "      <td>...</td>\n",
       "      <td>...</td>\n",
       "      <td>...</td>\n",
       "      <td>...</td>\n",
       "      <td>...</td>\n",
       "      <td>...</td>\n",
       "      <td>...</td>\n",
       "    </tr>\n",
       "    <tr>\n",
       "      <th>894</th>\n",
       "      <td>2021 Renault Kiger</td>\n",
       "      <td>RXZ CVT 1.0 TURBO</td>\n",
       "      <td>Automatic</td>\n",
       "      <td>2,461 km</td>\n",
       "      <td>1st Owner</td>\n",
       "      <td>Petrol</td>\n",
       "      <td>UP-16</td>\n",
       "      <td>₹9,90,000</td>\n",
       "    </tr>\n",
       "    <tr>\n",
       "      <th>895</th>\n",
       "      <td>2021 Maruti ALTO</td>\n",
       "      <td>LXI CNG</td>\n",
       "      <td>Manual</td>\n",
       "      <td>30,310 km</td>\n",
       "      <td>1st Owner</td>\n",
       "      <td>CNG</td>\n",
       "      <td>HR-26</td>\n",
       "      <td>₹4,38,000</td>\n",
       "    </tr>\n",
       "    <tr>\n",
       "      <th>896</th>\n",
       "      <td>2020 Maruti New Wagon-R</td>\n",
       "      <td>LXI CNG 1.0 L</td>\n",
       "      <td>Manual</td>\n",
       "      <td>31,387 km</td>\n",
       "      <td>2nd Owner</td>\n",
       "      <td>CNG</td>\n",
       "      <td>HR-87</td>\n",
       "      <td>₹5,67,000</td>\n",
       "    </tr>\n",
       "    <tr>\n",
       "      <th>897</th>\n",
       "      <td>2020 KIA SONET</td>\n",
       "      <td>GTX PLUS DCT 1.0</td>\n",
       "      <td>Manual</td>\n",
       "      <td>12,835 km</td>\n",
       "      <td>1st Owner</td>\n",
       "      <td>Petrol</td>\n",
       "      <td>HR-26</td>\n",
       "      <td>₹12,71,000</td>\n",
       "    </tr>\n",
       "    <tr>\n",
       "      <th>898</th>\n",
       "      <td>2011 Maruti Swift</td>\n",
       "      <td>ZXI</td>\n",
       "      <td>Manual</td>\n",
       "      <td>79,489 km</td>\n",
       "      <td>1st Owner</td>\n",
       "      <td>Petrol</td>\n",
       "      <td>HR-26</td>\n",
       "      <td>₹2,93,000</td>\n",
       "    </tr>\n",
       "  </tbody>\n",
       "</table>\n",
       "<p>899 rows × 8 columns</p>\n",
       "</div>"
      ],
      "text/plain": [
       "                    car_name            variant transmission  km_driven  \\\n",
       "0            2018 Tata NEXON             XM 1.2       Manual  95,230 km   \n",
       "1          2017 Renault Kwid        1.0 RXT Opt       Manual  72,956 km   \n",
       "2     2017 HYUNDAI ELITE I20       ASTA 1.2 (O)       Manual  50,636 km   \n",
       "3      2019 Mahindra XUV 3OO              W8(O)       Manual  86,652 km   \n",
       "4         2020 Hyundai Creta      1.5 SX (O) AT    Automatic  20,235 km   \n",
       "..                       ...                ...          ...        ...   \n",
       "894       2021 Renault Kiger  RXZ CVT 1.0 TURBO    Automatic   2,461 km   \n",
       "895         2021 Maruti ALTO            LXI CNG       Manual  30,310 km   \n",
       "896  2020 Maruti New Wagon-R      LXI CNG 1.0 L       Manual  31,387 km   \n",
       "897           2020 KIA SONET   GTX PLUS DCT 1.0       Manual  12,835 km   \n",
       "898        2011 Maruti Swift                ZXI       Manual  79,489 km   \n",
       "\n",
       "    owner_type fuel_type registeration       price  \n",
       "0    1st Owner    Petrol         UP-16   ₹6,50,000  \n",
       "1    2nd Owner    Petrol         HR-11   ₹3,19,000  \n",
       "2    2nd Owner    Petrol         DL-7C   ₹5,87,000  \n",
       "3    1st Owner    Diesel         DL-12   ₹8,22,000  \n",
       "4    1st Owner    Petrol         DL-9C  ₹16,74,000  \n",
       "..         ...       ...           ...         ...  \n",
       "894  1st Owner    Petrol         UP-16   ₹9,90,000  \n",
       "895  1st Owner       CNG         HR-26   ₹4,38,000  \n",
       "896  2nd Owner       CNG         HR-87   ₹5,67,000  \n",
       "897  1st Owner    Petrol         HR-26  ₹12,71,000  \n",
       "898  1st Owner    Petrol         HR-26   ₹2,93,000  \n",
       "\n",
       "[899 rows x 8 columns]"
      ]
     },
     "execution_count": 20,
     "metadata": {},
     "output_type": "execute_result"
    }
   ],
   "source": [
    "dataset"
   ]
  },
  {
   "cell_type": "code",
   "execution_count": 21,
   "id": "1c1b219a-e330-46e1-ac8e-3e278adde6f9",
   "metadata": {},
   "outputs": [
    {
     "data": {
      "text/html": [
       "<div>\n",
       "<style scoped>\n",
       "    .dataframe tbody tr th:only-of-type {\n",
       "        vertical-align: middle;\n",
       "    }\n",
       "\n",
       "    .dataframe tbody tr th {\n",
       "        vertical-align: top;\n",
       "    }\n",
       "\n",
       "    .dataframe thead th {\n",
       "        text-align: right;\n",
       "    }\n",
       "</style>\n",
       "<table border=\"1\" class=\"dataframe\">\n",
       "  <thead>\n",
       "    <tr style=\"text-align: right;\">\n",
       "      <th></th>\n",
       "      <th>car_name</th>\n",
       "      <th>variant</th>\n",
       "      <th>transmission</th>\n",
       "      <th>km_driven</th>\n",
       "      <th>owner_type</th>\n",
       "      <th>fuel_type</th>\n",
       "      <th>registeration</th>\n",
       "      <th>price</th>\n",
       "    </tr>\n",
       "  </thead>\n",
       "  <tbody>\n",
       "    <tr>\n",
       "      <th>0</th>\n",
       "      <td>False</td>\n",
       "      <td>False</td>\n",
       "      <td>False</td>\n",
       "      <td>False</td>\n",
       "      <td>False</td>\n",
       "      <td>False</td>\n",
       "      <td>False</td>\n",
       "      <td>False</td>\n",
       "    </tr>\n",
       "    <tr>\n",
       "      <th>1</th>\n",
       "      <td>False</td>\n",
       "      <td>False</td>\n",
       "      <td>False</td>\n",
       "      <td>False</td>\n",
       "      <td>False</td>\n",
       "      <td>False</td>\n",
       "      <td>False</td>\n",
       "      <td>False</td>\n",
       "    </tr>\n",
       "    <tr>\n",
       "      <th>2</th>\n",
       "      <td>False</td>\n",
       "      <td>False</td>\n",
       "      <td>False</td>\n",
       "      <td>False</td>\n",
       "      <td>False</td>\n",
       "      <td>False</td>\n",
       "      <td>False</td>\n",
       "      <td>False</td>\n",
       "    </tr>\n",
       "    <tr>\n",
       "      <th>3</th>\n",
       "      <td>False</td>\n",
       "      <td>False</td>\n",
       "      <td>False</td>\n",
       "      <td>False</td>\n",
       "      <td>False</td>\n",
       "      <td>False</td>\n",
       "      <td>False</td>\n",
       "      <td>False</td>\n",
       "    </tr>\n",
       "    <tr>\n",
       "      <th>4</th>\n",
       "      <td>False</td>\n",
       "      <td>False</td>\n",
       "      <td>False</td>\n",
       "      <td>False</td>\n",
       "      <td>False</td>\n",
       "      <td>False</td>\n",
       "      <td>False</td>\n",
       "      <td>False</td>\n",
       "    </tr>\n",
       "    <tr>\n",
       "      <th>...</th>\n",
       "      <td>...</td>\n",
       "      <td>...</td>\n",
       "      <td>...</td>\n",
       "      <td>...</td>\n",
       "      <td>...</td>\n",
       "      <td>...</td>\n",
       "      <td>...</td>\n",
       "      <td>...</td>\n",
       "    </tr>\n",
       "    <tr>\n",
       "      <th>894</th>\n",
       "      <td>False</td>\n",
       "      <td>False</td>\n",
       "      <td>False</td>\n",
       "      <td>False</td>\n",
       "      <td>False</td>\n",
       "      <td>False</td>\n",
       "      <td>False</td>\n",
       "      <td>False</td>\n",
       "    </tr>\n",
       "    <tr>\n",
       "      <th>895</th>\n",
       "      <td>False</td>\n",
       "      <td>False</td>\n",
       "      <td>False</td>\n",
       "      <td>False</td>\n",
       "      <td>False</td>\n",
       "      <td>False</td>\n",
       "      <td>False</td>\n",
       "      <td>False</td>\n",
       "    </tr>\n",
       "    <tr>\n",
       "      <th>896</th>\n",
       "      <td>False</td>\n",
       "      <td>False</td>\n",
       "      <td>False</td>\n",
       "      <td>False</td>\n",
       "      <td>False</td>\n",
       "      <td>False</td>\n",
       "      <td>False</td>\n",
       "      <td>False</td>\n",
       "    </tr>\n",
       "    <tr>\n",
       "      <th>897</th>\n",
       "      <td>False</td>\n",
       "      <td>False</td>\n",
       "      <td>False</td>\n",
       "      <td>False</td>\n",
       "      <td>False</td>\n",
       "      <td>False</td>\n",
       "      <td>False</td>\n",
       "      <td>False</td>\n",
       "    </tr>\n",
       "    <tr>\n",
       "      <th>898</th>\n",
       "      <td>False</td>\n",
       "      <td>False</td>\n",
       "      <td>False</td>\n",
       "      <td>False</td>\n",
       "      <td>False</td>\n",
       "      <td>False</td>\n",
       "      <td>False</td>\n",
       "      <td>False</td>\n",
       "    </tr>\n",
       "  </tbody>\n",
       "</table>\n",
       "<p>899 rows × 8 columns</p>\n",
       "</div>"
      ],
      "text/plain": [
       "     car_name  variant  transmission  km_driven  owner_type  fuel_type  \\\n",
       "0       False    False         False      False       False      False   \n",
       "1       False    False         False      False       False      False   \n",
       "2       False    False         False      False       False      False   \n",
       "3       False    False         False      False       False      False   \n",
       "4       False    False         False      False       False      False   \n",
       "..        ...      ...           ...        ...         ...        ...   \n",
       "894     False    False         False      False       False      False   \n",
       "895     False    False         False      False       False      False   \n",
       "896     False    False         False      False       False      False   \n",
       "897     False    False         False      False       False      False   \n",
       "898     False    False         False      False       False      False   \n",
       "\n",
       "     registeration  price  \n",
       "0            False  False  \n",
       "1            False  False  \n",
       "2            False  False  \n",
       "3            False  False  \n",
       "4            False  False  \n",
       "..             ...    ...  \n",
       "894          False  False  \n",
       "895          False  False  \n",
       "896          False  False  \n",
       "897          False  False  \n",
       "898          False  False  \n",
       "\n",
       "[899 rows x 8 columns]"
      ]
     },
     "execution_count": 21,
     "metadata": {},
     "output_type": "execute_result"
    }
   ],
   "source": [
    "dataset.isnull()"
   ]
  },
  {
   "cell_type": "code",
   "execution_count": 22,
   "id": "1f7dea0b-9de9-40ee-bdeb-ff8c79d55821",
   "metadata": {},
   "outputs": [
    {
     "data": {
      "text/plain": [
       "car_name         0\n",
       "variant          0\n",
       "transmission     5\n",
       "km_driven        0\n",
       "owner_type       0\n",
       "fuel_type        0\n",
       "registeration    0\n",
       "price            0\n",
       "dtype: int64"
      ]
     },
     "execution_count": 22,
     "metadata": {},
     "output_type": "execute_result"
    }
   ],
   "source": [
    "dataset.isnull().sum()"
   ]
  },
  {
   "cell_type": "code",
   "execution_count": 23,
   "id": "514a80c8-44c5-4c29-a4df-1e847c1ac03a",
   "metadata": {},
   "outputs": [
    {
     "data": {
      "text/plain": [
       "(899, 8)"
      ]
     },
     "execution_count": 23,
     "metadata": {},
     "output_type": "execute_result"
    }
   ],
   "source": [
    "dataset.shape"
   ]
  },
  {
   "cell_type": "code",
   "execution_count": 27,
   "id": "2ff0201e-1fad-4131-ab39-5eb16ff07d13",
   "metadata": {},
   "outputs": [
    {
     "data": {
      "text/plain": [
       "car_name         0.0\n",
       "variant          0.0\n",
       "transmission     0.0\n",
       "km_driven        0.0\n",
       "owner_type       0.0\n",
       "fuel_type        0.0\n",
       "registeration    0.0\n",
       "price            0.0\n",
       "dtype: float64"
      ]
     },
     "execution_count": 27,
     "metadata": {},
     "output_type": "execute_result"
    }
   ],
   "source": [
    "(dataset.isnull().sum()/df.shape[0])*100"
   ]
  },
  {
   "cell_type": "code",
   "execution_count": 26,
   "id": "16fa61a5-898b-46b6-8733-8313e6507e1e",
   "metadata": {},
   "outputs": [],
   "source": [
    "dataset.dropna(inplace=True)    #missing values remover"
   ]
  },
  {
   "cell_type": "markdown",
   "id": "ce8edd6a-3c16-49b6-8e68-c289a6407f65",
   "metadata": {},
   "source": [
    "car_name"
   ]
  },
  {
   "cell_type": "code",
   "execution_count": 29,
   "id": "4bde89a3-8c53-4db2-a124-0c2217633ed3",
   "metadata": {},
   "outputs": [
    {
     "data": {
      "text/plain": [
       "'2018 Tata NEXON'"
      ]
     },
     "execution_count": 29,
     "metadata": {},
     "output_type": "execute_result"
    }
   ],
   "source": [
    "dataset['car_name'][0]"
   ]
  },
  {
   "cell_type": "code",
   "execution_count": 30,
   "id": "602a61db-ad0c-4fd3-8c16-03f7a01bbafa",
   "metadata": {},
   "outputs": [
    {
     "data": {
      "text/plain": [
       "0       ₹6,50,000\n",
       "1       ₹3,19,000\n",
       "2       ₹5,87,000\n",
       "3       ₹8,22,000\n",
       "4      ₹16,74,000\n",
       "          ...    \n",
       "894     ₹9,90,000\n",
       "895     ₹4,38,000\n",
       "896     ₹5,67,000\n",
       "897    ₹12,71,000\n",
       "898     ₹2,93,000\n",
       "Name: price, Length: 894, dtype: object"
      ]
     },
     "execution_count": 30,
     "metadata": {},
     "output_type": "execute_result"
    }
   ],
   "source": [
    "dataset['price']"
   ]
  },
  {
   "cell_type": "code",
   "execution_count": 31,
   "id": "761a5731-9469-4701-8540-780721998f1f",
   "metadata": {},
   "outputs": [
    {
     "data": {
      "text/plain": [
       "0         Manual\n",
       "1         Manual\n",
       "2         Manual\n",
       "3         Manual\n",
       "4      Automatic\n",
       "         ...    \n",
       "894    Automatic\n",
       "895       Manual\n",
       "896       Manual\n",
       "897       Manual\n",
       "898       Manual\n",
       "Name: transmission, Length: 894, dtype: object"
      ]
     },
     "execution_count": 31,
     "metadata": {},
     "output_type": "execute_result"
    }
   ],
   "source": [
    "dataset['transmission']"
   ]
  },
  {
   "cell_type": "code",
   "execution_count": null,
   "id": "eba4e042-ec63-439b-8524-dcf3bd29590c",
   "metadata": {},
   "outputs": [],
   "source": []
  }
 ],
 "metadata": {
  "kernelspec": {
   "display_name": "Python 3 (ipykernel)",
   "language": "python",
   "name": "python3"
  },
  "language_info": {
   "codemirror_mode": {
    "name": "ipython",
    "version": 3
   },
   "file_extension": ".py",
   "mimetype": "text/x-python",
   "name": "python",
   "nbconvert_exporter": "python",
   "pygments_lexer": "ipython3",
   "version": "3.12.7"
  }
 },
 "nbformat": 4,
 "nbformat_minor": 5
}
